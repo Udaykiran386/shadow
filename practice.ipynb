{
 "cells": [
  {
   "cell_type": "code",
   "execution_count": 3,
   "metadata": {},
   "outputs": [
    {
     "name": "stdout",
     "output_type": "stream",
     "text": [
      "my name is alton\n"
     ]
    }
   ],
   "source": [
    "name1=\" alton\"()\n",
    "pre_messsage=\"my name is\"\n",
    "mess=pre_messsage+name1\n",
    "print(mess)"
   ]
  },
  {
   "cell_type": "code",
   "execution_count": 5,
   "metadata": {},
   "outputs": [
    {
     "name": "stdout",
     "output_type": "stream",
     "text": [
      "10\n",
      "10\n"
     ]
    }
   ],
   "source": [
    "x=y=10\n",
    "print(x)\n",
    "print(y)\n"
   ]
  },
  {
   "cell_type": "code",
   "execution_count": 3,
   "metadata": {},
   "outputs": [
    {
     "name": "stdout",
     "output_type": "stream",
     "text": [
      "(88, 'ragi')\n"
     ]
    }
   ],
   "source": [
    "a=88\n",
    "b=\"ragi\"\n",
    "sum=(a,b)\n",
    "print(sum)\n"
   ]
  },
  {
   "cell_type": "code",
   "execution_count": null,
   "metadata": {},
   "outputs": [],
   "source": []
  },
  {
   "cell_type": "code",
   "execution_count": 8,
   "metadata": {},
   "outputs": [
    {
     "name": "stdout",
     "output_type": "stream",
     "text": [
      "10\n",
      "88.022\n",
      "hello\n"
     ]
    }
   ],
   "source": [
    "a,b,c=10,88.022,\"hello\"\n",
    "print(a)\n",
    "print(b)\n",
    "print(c)"
   ]
  },
  {
   "cell_type": "code",
   "execution_count": 2,
   "metadata": {},
   "outputs": [
    {
     "name": "stdout",
     "output_type": "stream",
     "text": [
      "this is a sample funtiion\n",
      "the name you entered is vara.\n"
     ]
    }
   ],
   "source": [
    "def get_name():\n",
    "    name=input(\"what is your name\")\n",
    "    print(\"the name you entered is\",name+\".\")\n",
    "print(\"this is a sample funtiion\")\n",
    "get_name()"
   ]
  },
  {
   "cell_type": "code",
   "execution_count": 3,
   "metadata": {},
   "outputs": [
    {
     "name": "stdout",
     "output_type": "stream",
     "text": [
      "welcome to the magic!\n",
      "32\n"
     ]
    }
   ],
   "source": [
    "def add_numbers():\n",
    "    num1=input(\"enter a number:\")\n",
    "    num2=input(\"enter a second number:\")\n",
    "    num3=int(num1)+int(num2)\n",
    "    return num3\n",
    "print(\"welcome to the magic!\")\n",
    "num4=add_numbers()\n",
    "print(num4)"
   ]
  },
  {
   "cell_type": "code",
   "execution_count": 5,
   "metadata": {},
   "outputs": [
    {
     "name": "stdout",
     "output_type": "stream",
     "text": [
      "the name you entered is tharun.\n"
     ]
    }
   ],
   "source": [
    "def format_name(name_input):\n",
    "    print(\"the name you entered is\",name_input+\".\")\n",
    "name1=input(\"what is your name:\")\n",
    "format_name(name1)\n"
   ]
  },
  {
   "cell_type": "code",
   "execution_count": 2,
   "metadata": {},
   "outputs": [
    {
     "name": "stdout",
     "output_type": "stream",
     "text": [
      "the name you entered is janu.you are 14 years old\n"
     ]
    }
   ],
   "source": [
    "def format_name(name_input,age_input):\n",
    "    print(\"the name you entered is\",name_input+\".you are\",age_input,\"years old\")\n",
    "name1=input(\"what is your name ?\")\n",
    "age1=input(\"what is your age ?\")\n",
    "format_name(name1,age1)"
   ]
  },
  {
   "cell_type": "code",
   "execution_count": 3,
   "metadata": {},
   "outputs": [
    {
     "name": "stdout",
     "output_type": "stream",
     "text": [
      "The name you entered is anumpa. you are 28 years old and still young\n"
     ]
    }
   ],
   "source": [
    "name=str(input(\"what is your name?\"))\n",
    "age=int(input(\"enter your age?\"))\n",
    "if age>50:\n",
    "    print(\"The name you entered is\",name+'. you are',age,\"years old.\")\n",
    "else:\n",
    "    print(\"The name you entered is\",name+\". you are\",age,\"years old and still young\")"
   ]
  },
  {
   "cell_type": "code",
   "execution_count": 6,
   "metadata": {},
   "outputs": [
    {
     "name": "stdout",
     "output_type": "stream",
     "text": [
      "please enter a valid name\n"
     ]
    }
   ],
   "source": [
    "name=input(\"what is your name?\")\n",
    "age=int(input('what is your age?'))\n",
    "if name.isalnum() and not(name.isdigit()):\n",
    "    print(\"the name you entered in\",name+\", your are\",age,\"years old.\")\n",
    "else:\n",
    "    print(\"please enter a valid name\")"
   ]
  },
  {
   "cell_type": "code",
   "execution_count": 6,
   "metadata": {},
   "outputs": [
    {
     "name": "stdout",
     "output_type": "stream",
     "text": [
      "congrats you meet the age reqirements hema.\n"
     ]
    }
   ],
   "source": [
    "name=input(\"enter the name\")\n",
    "age=int(input(\"enter the age ?\"))\n",
    "if age>65 or age<18:\n",
    "    print(\"congrats you meet the age reqirements\",name+\".\")\n",
    "else:\n",
    "    print(\"you are not in the required age range\",name+\".\")"
   ]
  },
  {
   "cell_type": "code",
   "execution_count": null,
   "metadata": {},
   "outputs": [],
   "source": [
    "def add(num_1,num_2):\n",
    "    sum=num_1+num_2\n",
    "    return sum\n",
    "def subtrat(num_1,num_2):\n",
    "    difference=num_1-num_2\n",
    "    return difference\n",
    "def multiple(num_1,num_2):\n",
    "    product=num_1*num_2\n",
    "    return product\n",
    "def division(num_1,num_2):\n",
    "    if num_1!=0:\n",
    "        quotient=num_2/num_1\n",
    "        return quotient\n",
    "    else:\n",
    "        return 0"
   ]
  },
  {
   "cell_type": "code",
   "execution_count": 8,
   "metadata": {},
   "outputs": [
    {
     "name": "stdout",
     "output_type": "stream",
     "text": [
      "3080\n"
     ]
    }
   ],
   "source": [
    "num_1=int(input(\"please enter a number:\"))\n",
    "num_2=int(input(\"please enter a secondnumber:\"))\n",
    "operator=input(\"what is your operation? enter + - * and / only\")\n",
    "if operator==\"+\":\n",
    "    answer=add(num_1,num_2)\n",
    "elif operator==\"-\":\n",
    "    answer=subtrat(num_1,num_2)\n",
    "elif operator==\"*\":\n",
    "    answer=multiple(num_1,num_2)\n",
    "elif operator==\"/\":\n",
    "    answer=division(num_1,num_2)\n",
    "else:\n",
    "    print(\"this is not a valid operation!!\")\n",
    "print(str(answer))"
   ]
  }
 ],
 "metadata": {
  "kernelspec": {
   "display_name": "Python 3.10.5 64-bit",
   "language": "python",
   "name": "python3"
  },
  "language_info": {
   "codemirror_mode": {
    "name": "ipython",
    "version": 3
   },
   "file_extension": ".py",
   "mimetype": "text/x-python",
   "name": "python",
   "nbconvert_exporter": "python",
   "pygments_lexer": "ipython3",
   "version": "3.10.5"
  },
  "orig_nbformat": 4,
  "vscode": {
   "interpreter": {
    "hash": "5262f03d622a103a049c9c0a95c7f26ca7c9aef88a803d1a54bec4fdcf2a9911"
   }
  }
 },
 "nbformat": 4,
 "nbformat_minor": 2
}
